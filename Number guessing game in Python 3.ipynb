{
 "cells": [
  {
   "cell_type": "code",
   "execution_count": 15,
   "metadata": {},
   "outputs": [
    {
     "name": "stdout",
     "output_type": "stream",
     "text": [
      "Enter Lower bound:- 10\n",
      "Enter Upper bound:- 20\n",
      "\n",
      "\tYou've only  3  chances to guess the integer!\n",
      "\n",
      "Guess a number:- 2\n",
      "You guessed too small!\n",
      "Guess a number:- 2\n",
      "You guessed too small!\n",
      "Guess a number:- 2\n",
      "You guessed too small!\n",
      "\n",
      "The number is 14\n",
      "\tBetter Luck Next time!\n"
     ]
    }
   ],
   "source": [
    "import random\n",
    "import math\n",
    "# Taking Inputs\n",
    "lower = int(input(\"Enter Lower bound:- \"))\n",
    "upper = int(input(\"Enter Upper bound:- \"))\n",
    "\n",
    "\n",
    "\n",
    "\n",
    "# generating random number between\n",
    "# the lower and upper\n",
    "x = random.randint(lower, upper)\n",
    "print(\"\\n\\tYou've only \",round(math.log(upper - lower + 1, 2)),\" chances to guess the integer!\\n\")\n",
    "# Initializing the number of guesses.\n",
    "count = 1\n",
    "\n",
    "\n",
    "\n",
    "\n",
    "# for calculation of minimum number of\n",
    "# guesses depends upon range\n",
    "while count < math.log(upper - lower + 1, 2):\n",
    "    count += 1\n",
    "    guess = int(input(\"Guess a number:- \"))\n",
    "    if x == guess:\n",
    "        print(\"Congratulations you did it in \",count, \" try\")\n",
    "        break\n",
    "    elif x > guess:\n",
    "        print(\"You guessed too small!\")\n",
    "    elif x < guess:\n",
    "        print(\"You Guessed too high!\")\n",
    "\n",
    "        \n",
    "        \n",
    "        \n",
    "        \n",
    "        \n",
    "# If Guessing is more than required guesses,\n",
    "# shows this output.\n",
    "if count >= math.log(upper - lower + 1, 2):\n",
    "    print(\"\\nThe number is %d\" % x)\n",
    "    print(\"\\tBetter Luck Next time!\")\n",
    "\n",
    "\n"
   ]
  },
  {
   "cell_type": "markdown",
   "metadata": {},
   "source": [
    "Build a Number guessing game, in which the user selects a range.\n",
    "Let’s say User selected a range, i.e., from A to B, where A and B belong to Integer.\n",
    "Some random integer will be selected by the system and the user has to guess that integer in the minimum number of guesses"
   ]
  },
  {
   "cell_type": "markdown",
   "metadata": {},
   "source": [
    "If the User inputs range, let’s say from 1 to 100. And compiler randomly selected 42 as the integer. And now the guessing game started, so the user entered 50 as his/her first guess. The compiler shows “Try Again! You guessed too high”. That’s mean the random number (i.e., 42) doesn’t fall in the range from 50 to 100. That’s the importance of guessing half of the range. And again, the user guesses half of 50 (Could you tell me why?). So the half of 50 is 25. The user enters 25 as his/her second guess. This time compiler will show, “Try Again! You guessed too small”. That’s mean the integers less than 25 (from 1 to 25) are useless to be guessed. Now the range for user guessing is shorter, i.e., from 25 to 50. Intelligently! The user guessed half of this range, so that, user guessed 37 as his/her third guess.  This time again the compiler shows the output, “Try Again! You guessed too small”. For the user, the guessing range is getting smaller by each guess. Now, the guessing range for user is from 37 to 50, for which the user guessed 43 as his/her fourth guess. This time the compiler will show an output “Try Again! You guessed too high”. So, the new guessing range for users will be from 37 to 43, again for which the user guessed the half of this range, that is, 40 as his/her fifth guess.  This time the compiler shows the output, “Try Again! You guessed too small”. Leaving the guess even smaller such that from 41 to 43. And now the user guessed 41 as his/her sixth guess. Which is wrong and shows output “Try Again! You guessed too small”. And finally, the User Guessed the right number which is 42 as his/her seventh guess.\n",
    "\n",
    "          Total Number of Guesses = 7"
   ]
  },
  {
   "cell_type": "raw",
   "metadata": {},
   "source": [
    "Algorithm: \n",
    "\n",
    "User inputs the lower bound and upper bound of the range.\n",
    "The compiler generates a random integer between the range and store it in a variable for future references.\n",
    "For repetitive guessing, a while loop will be initialized.\n",
    "If the user guessed a number which is greater than a randomly selected number, the user gets an output “Try Again! You guessed too high“\n",
    "Else If the user guessed a number which is smaller than a randomly selected number, the user gets an output “Try Again! You guessed too small”\n",
    "And if the user guessed in a minimum number of guesses, the user gets a “Congratulations! ” Output.\n",
    "Else if the user didn’t guess the integer in the minimum number of guesses, he/she will get “Better Luck Next Time!” output."
   ]
  }
 ],
 "metadata": {
  "kernelspec": {
   "display_name": "Python 3",
   "language": "python",
   "name": "python3"
  },
  "language_info": {
   "codemirror_mode": {
    "name": "ipython",
    "version": 3
   },
   "file_extension": ".py",
   "mimetype": "text/x-python",
   "name": "python",
   "nbconvert_exporter": "python",
   "pygments_lexer": "ipython3",
   "version": "3.8.5"
  }
 },
 "nbformat": 4,
 "nbformat_minor": 4
}
